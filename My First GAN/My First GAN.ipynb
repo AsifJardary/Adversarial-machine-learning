{
 "cells": [
  {
   "cell_type": "markdown",
   "id": "8dbee73d",
   "metadata": {},
   "source": [
    "# MY FIRST GAN"
   ]
  },
  {
   "cell_type": "markdown",
   "id": "d6caf01a",
   "metadata": {},
   "source": [
    "##### All the code has taken from real python website. I'll provide the break down and explain of each line of code and also make a video out of it."
   ]
  },
  {
   "cell_type": "code",
   "execution_count": 27,
   "id": "3b2b240e",
   "metadata": {},
   "outputs": [],
   "source": [
    "import torch\n",
    "from torch import nn\n",
    "\n",
    "import math\n",
    "import matplotlib.pyplot as plt"
   ]
  },
  {
   "cell_type": "markdown",
   "id": "2699c3e7",
   "metadata": {},
   "source": [
    "###### It’s a good set up a random generator seed so that the experiment can be replicated identically on any machine."
   ]
  },
  {
   "cell_type": "code",
   "execution_count": 28,
   "id": "f8f2f93c",
   "metadata": {},
   "outputs": [
    {
     "data": {
      "text/plain": [
       "<torch._C.Generator at 0x20297439250>"
      ]
     },
     "execution_count": 28,
     "metadata": {},
     "output_type": "execute_result"
    }
   ],
   "source": [
    "#The number 111 represents the random seed used to initialize the random number generator, which is used to initialize the neural network’s weights.\n",
    "torch.manual_seed(111)"
   ]
  },
  {
   "cell_type": "markdown",
   "id": "7191e824",
   "metadata": {},
   "source": [
    "## Preparing the Training Data"
   ]
  },
  {
   "cell_type": "code",
   "execution_count": 29,
   "id": "9ebccab1",
   "metadata": {},
   "outputs": [],
   "source": [
    "train_data_length = 1024\n",
    "#initialize train_data, a tensor with dimensions of 1024 rows and 2 columns, \n",
    "#all containing zeros.\n",
    "train_data = torch.zeros((train_data_length, 2))\n",
    "#first column of train_data to store random values in the interval from 0 to 2π.\n",
    "train_data[:, 0] = 2 * math.pi * torch.rand(train_data_length)\n",
    "#calculate the second column of the tensor as the sine of the first column.\n",
    "train_data[:, 1] = torch.sin(train_data[:, 0])\n",
    "#create train_labels, a tensor filled with zeros. \n",
    "train_labels = torch.zeros(train_data_length)\n",
    "#create train_set as a list of tuples, with each row of train_data and train_labels represented in each tuple as expected by PyTorch’s data loader.\n",
    "train_set = [\n",
    "\n",
    "    (train_data[i], train_labels[i]) for i in range(train_data_length)\n",
    "\n",
    "]"
   ]
  },
  {
   "cell_type": "code",
   "execution_count": 30,
   "id": "1441f758",
   "metadata": {},
   "outputs": [
    {
     "data": {
      "text/plain": [
       "[<matplotlib.lines.Line2D at 0x2029ec59610>]"
      ]
     },
     "execution_count": 30,
     "metadata": {},
     "output_type": "execute_result"
    },
    {
     "data": {
      "image/png": "[encoded data removed]",
      "text/plain": [
       "<Figure size 640x480 with 1 Axes>"
      ]
     },
     "metadata": {},
     "output_type": "display_data"
    }
   ],
   "source": [
    "#plotting each point (x₁, x₂)\n",
    "plt.plot(train_data[:, 0], train_data[:, 1], \".\")"
   ]
  },
  {
   "cell_type": "code",
   "execution_count": 31,
   "id": "8753814b",
   "metadata": {},
   "outputs": [],
   "source": [
    "#create a data loader called train_loader, which will shuffle the data from train_set and return batches of 32 samples that you’ll use to train the neural networks.\n",
    "batch_size = 32\n",
    "train_loader = torch.utils.data.DataLoader(\n",
    "    train_set, batch_size=batch_size, shuffle=True\n",
    ")"
   ]
  },
  {
   "cell_type": "markdown",
   "id": "ac92dfd9",
   "metadata": {},
   "source": [
    "# Implementing the Discriminator"
   ]
  },
  {
   "cell_type": "code",
   "execution_count": 32,
   "id": "23836cf2",
   "metadata": {},
   "outputs": [],
   "source": [
    "class Discriminator(nn.Module):\n",
    "    def __init__(self):\n",
    "        super().__init__()\n",
    "        self.model = nn.Sequential(\n",
    "            #The input is two-dimensional, and the first hidden layer is composed of 256 neurons with ReLU activation.\n",
    "            nn.Linear(2, 256),\n",
    "            nn.ReLU(),\n",
    "            nn.Dropout(0.3),\n",
    "            #The second and third hidden layers are composed of 128 and 64 neurons, respectively, with ReLU activation.\n",
    "            nn.Linear(256, 128),\n",
    "            nn.ReLU(),\n",
    "            nn.Dropout(0.3),\n",
    "            #The output is composed of a single neuron with sigmoidal activation to represent a probability.\n",
    "            nn.Linear(128, 64),\n",
    "            nn.ReLU(),\n",
    "            # After the first, second, and third hidden layers, you use dropout to avoid overfitting.(see upper dropouts)\n",
    "            nn.Dropout(0.3),\n",
    "            nn.Linear(64, 1),\n",
    "            nn.Sigmoid(),\n",
    "        )\n",
    "\n",
    "    def forward(self, x):\n",
    "        output = self.model(x)\n",
    "        return output"
   ]
  },
  {
   "cell_type": "code",
   "execution_count": 33,
   "id": "d2c4cd07",
   "metadata": {},
   "outputs": [],
   "source": [
    "#instantiate a Discriminator \n",
    "discriminator = Discriminator()"
   ]
  },
  {
   "cell_type": "markdown",
   "id": "7ed25f7e",
   "metadata": {},
   "source": [
    "# Implementing the Generator"
   ]
  },
  {
   "cell_type": "markdown",
   "id": "e7104da9",
   "metadata": {},
   "source": [
    "##### Here, generator represents the generator neural network. It’s composed of two hidden layers with 16 and 32 neurons, both with ReLU activation, and a linear activation layer with 2 neurons in the output. This way, the output will consist of a vector with two elements that can be any value ranging from negative infinity to infinity, which will represent (x̃₁, x̃₂)."
   ]
  },
  {
   "cell_type": "code",
   "execution_count": 34,
   "id": "49850414",
   "metadata": {},
   "outputs": [],
   "source": [
    "class Generator(nn.Module):\n",
    "    def __init__(self):\n",
    "        super().__init__()\n",
    "        self.model = nn.Sequential(\n",
    "            nn.Linear(2, 16),\n",
    "            nn.ReLU(),\n",
    "            nn.Linear(16, 32),\n",
    "            nn.ReLU(),\n",
    "            nn.Linear(32, 2),\n",
    "        )\n",
    "\n",
    "    def forward(self, x):\n",
    "        output = self.model(x)\n",
    "        return output\n",
    "\n",
    "generator = Generator()"
   ]
  },
  {
   "cell_type": "markdown",
   "id": "285380d8",
   "metadata": {},
   "source": [
    "# Training the Models"
   ]
  },
  {
   "cell_type": "code",
   "execution_count": 35,
   "id": "7d7e3a5c",
   "metadata": {},
   "outputs": [],
   "source": [
    "#sets the learning rate (lr), which you’ll use to adapt the network weights.\n",
    "lr = 0.001\n",
    "#sets the number of epochs (num_epochs), which defines how many repetitions of training using the whole training set will be performed.\n",
    "num_epochs = 300\n",
    "#assigns the variable loss_function to the binary cross-entropy function BCELoss(), which is the loss function that you’ll use to train the models.\n",
    "loss_function = nn.BCELoss()"
   ]
  },
  {
   "cell_type": "markdown",
   "id": "86da528a",
   "metadata": {},
   "source": [
    "### PyTorch implements various weight update rules for model training in torch.optim. The Adam algorithm will train the discriminator and generator models. To create the optimizers using torch.optim"
   ]
  },
  {
   "cell_type": "code",
   "execution_count": 36,
   "id": "9b1f2668",
   "metadata": {},
   "outputs": [],
   "source": [
    "optimizer_discriminator = torch.optim.Adam(discriminator.parameters(), lr=lr)\n",
    "\n",
    "optimizer_generator = torch.optim.Adam(generator.parameters(), lr=lr)"
   ]
  },
  {
   "cell_type": "markdown",
   "id": "c1325335",
   "metadata": {},
   "source": [
    "### need to implement a training loop in which training samples are fed to the models, and their weights are updated to minimize the loss function"
   ]
  },
  {
   "cell_type": "code",
   "execution_count": 39,
   "id": "7dd12bb1",
   "metadata": {},
   "outputs": [
    {
     "name": "stdout",
     "output_type": "stream",
     "text": [
      "Epoch: 0 Loss D.: 0.725507378578186\n",
      "Epoch: 0 Loss G.: 0.767403244972229\n",
      "Epoch: 10 Loss D.: 0.659313440322876\n",
      "Epoch: 10 Loss G.: 0.899202287197113\n",
      "Epoch: 20 Loss D.: 0.6053537130355835\n",
      "Epoch: 20 Loss G.: 1.044240951538086\n",
      "Epoch: 30 Loss D.: 0.7441221475601196\n",
      "Epoch: 30 Loss G.: 0.7511733770370483\n",
      "Epoch: 40 Loss D.: 0.6721683740615845\n",
      "Epoch: 40 Loss G.: 0.7095950841903687\n",
      "Epoch: 50 Loss D.: 0.7082590460777283\n",
      "Epoch: 50 Loss G.: 0.7670279741287231\n",
      "Epoch: 60 Loss D.: 0.644618570804596\n",
      "Epoch: 60 Loss G.: 0.9682708978652954\n",
      "Epoch: 70 Loss D.: 0.6589652895927429\n",
      "Epoch: 70 Loss G.: 0.7280973792076111\n",
      "Epoch: 80 Loss D.: 0.641819953918457\n",
      "Epoch: 80 Loss G.: 0.7449513077735901\n",
      "Epoch: 90 Loss D.: 0.66912841796875\n",
      "Epoch: 90 Loss G.: 0.7676193714141846\n",
      "Epoch: 100 Loss D.: 0.6127502918243408\n",
      "Epoch: 100 Loss G.: 1.036947250366211\n",
      "Epoch: 110 Loss D.: 0.6753268241882324\n",
      "Epoch: 110 Loss G.: 0.7069239616394043\n",
      "Epoch: 120 Loss D.: 0.7244952917098999\n",
      "Epoch: 120 Loss G.: 0.7222408056259155\n",
      "Epoch: 130 Loss D.: 0.5733983516693115\n",
      "Epoch: 130 Loss G.: 1.0419431924819946\n",
      "Epoch: 140 Loss D.: 0.6386117935180664\n",
      "Epoch: 140 Loss G.: 0.8037492036819458\n",
      "Epoch: 150 Loss D.: 0.6643903255462646\n",
      "Epoch: 150 Loss G.: 0.8743979334831238\n",
      "Epoch: 160 Loss D.: 0.6540693044662476\n",
      "Epoch: 160 Loss G.: 0.7504613399505615\n",
      "Epoch: 170 Loss D.: 0.669729471206665\n",
      "Epoch: 170 Loss G.: 0.8478332757949829\n",
      "Epoch: 180 Loss D.: 0.6764240860939026\n",
      "Epoch: 180 Loss G.: 0.7767342329025269\n",
      "Epoch: 190 Loss D.: 0.6693910360336304\n",
      "Epoch: 190 Loss G.: 0.7604718804359436\n",
      "Epoch: 200 Loss D.: 0.692516565322876\n",
      "Epoch: 200 Loss G.: 0.7143204212188721\n",
      "Epoch: 210 Loss D.: 0.5924227833747864\n",
      "Epoch: 210 Loss G.: 0.9871054887771606\n",
      "Epoch: 220 Loss D.: 0.679542601108551\n",
      "Epoch: 220 Loss G.: 0.7298320531845093\n",
      "Epoch: 230 Loss D.: 0.6461690068244934\n",
      "Epoch: 230 Loss G.: 0.7623016238212585\n",
      "Epoch: 240 Loss D.: 0.5805262327194214\n",
      "Epoch: 240 Loss G.: 0.8678154945373535\n",
      "Epoch: 250 Loss D.: 0.6758456826210022\n",
      "Epoch: 250 Loss G.: 0.6667943000793457\n",
      "Epoch: 260 Loss D.: 0.6277252435684204\n",
      "Epoch: 260 Loss G.: 0.7877682447433472\n",
      "Epoch: 270 Loss D.: 0.662751317024231\n",
      "Epoch: 270 Loss G.: 0.7462105751037598\n",
      "Epoch: 280 Loss D.: 0.6541861295700073\n",
      "Epoch: 280 Loss G.: 0.756194531917572\n",
      "Epoch: 290 Loss D.: 0.6619068384170532\n",
      "Epoch: 290 Loss G.: 0.7390159368515015\n"
     ]
    }
   ],
   "source": [
    "for epoch in range(num_epochs):\n",
    "    #You get the real samples of the current batch from the data loader and assign them to real_samples. Notice that the first dimension of the tensor has the number of elements equal to batch_size. This is the standard way of organizing data in PyTorch, with each line of the tensor representing one sample from the batch.\n",
    "    for n, (real_samples, _) in enumerate(train_loader):\n",
    "        # Data for training the discriminator\n",
    "        #You use torch.ones() to create labels with the value 1 for the real samples, and then you assign the labels to real_samples_labels.\n",
    "        real_samples_labels = torch.ones((batch_size, 1))\n",
    "        #You create the generated samples by storing random data in latent_space_samples, which you then feed to the generator to obtain generated_samples.\n",
    "        latent_space_samples = torch.randn((batch_size, 2))\n",
    "        generated_samples = generator(latent_space_samples)\n",
    "        #You use torch.zeros() to assign the value 0 to the labels for the generated samples, and then you store the labels in generated_samples_labels.\n",
    "        generated_samples_labels = torch.zeros((batch_size, 1))\n",
    "        #You concatenate the real and generated samples and labels and store them in all_samples and all_samples_labels, which you’ll use to train the discriminator.\n",
    "        all_samples = torch.cat((real_samples, generated_samples))\n",
    "        all_samples_labels = torch.cat(\n",
    "            (real_samples_labels, generated_samples_labels)\n",
    "        )\n",
    "\n",
    "        # Training the discriminator\n",
    "        #In PyTorch, it’s necessary to clear the gradients at each training step to avoid accumulating them. You do this using .zero_grad().\n",
    "        discriminator.zero_grad()\n",
    "        #You calculate the output of the discriminator using the training data in all_samples.\n",
    "        output_discriminator = discriminator(all_samples)\n",
    "        #You calculate the loss function using the output from the model in output_discriminator and the labels in all_samples_labels.\n",
    "        loss_discriminator = loss_function(\n",
    "            output_discriminator, all_samples_labels)\n",
    "        #You calculate the gradients to update the weights with loss_discriminator.backward().\n",
    "        loss_discriminator.backward()\n",
    "        #You update the discriminator weights by calling optimizer_discriminator.step().\n",
    "        optimizer_discriminator.step()\n",
    "\n",
    "        # Data for training the generator\n",
    "        # prepare the data to train the generator. You store random data in latent_space_samples, with a number of lines equal to batch_size. You use two columns since you’re providing two-dimensional data as input to the generator.\n",
    "        latent_space_samples = torch.randn((batch_size, 2))\n",
    "\n",
    "        # Training the generator\n",
    "        #You clear the gradients with .zero_grad().\n",
    "        generator.zero_grad()\n",
    "        #You feed the generator with latent_space_samples and store its output in generated_samples.\n",
    "        generated_samples = generator(latent_space_samples)\n",
    "        #feed the generator’s output into the discriminator and store its output in output_discriminator_generated, which you’ll use as the output of the whole model.\n",
    "        output_discriminator_generated = discriminator(generated_samples)\n",
    "        #calculate the loss function using the output of the classification system stored in output_discriminator_generated and the labels in real_samples_labels, which are all equal to 1.\n",
    "        loss_generator = loss_function(\n",
    "            output_discriminator_generated, real_samples_labels\n",
    "        )\n",
    "        #calculate the gradients and update the generator weights. Remember that when you trained the generator, you kept the discriminator weights frozen since you created optimizer_generator with its first argument equal to generator.parameters().\n",
    "        loss_generator.backward()\n",
    "        optimizer_generator.step()\n",
    "\n",
    "        # Show loss\n",
    "        #display the values of the discriminator and generator loss functions at the end of each ten epochs.\n",
    "        if epoch % 10 == 0 and n == batch_size - 1:\n",
    "            print(f\"Epoch: {epoch} Loss D.: {loss_discriminator}\")\n",
    "            print(f\"Epoch: {epoch} Loss G.: {loss_generator}\")"
   ]
  },
  {
   "cell_type": "markdown",
   "id": "dc2e89ff",
   "metadata": {},
   "source": [
    "## Checking the Samples Generated by the GAN"
   ]
  },
  {
   "cell_type": "markdown",
   "id": "5323d0bd",
   "metadata": {},
   "source": [
    "##### Generative adversarial networks are designed to generate data. So, after the training process is finished, you can get some random samples from the latent space and feed them to the generator to obtain some generated samples"
   ]
  },
  {
   "cell_type": "code",
   "execution_count": 40,
   "id": "7bb8fdbf",
   "metadata": {},
   "outputs": [],
   "source": [
    "latent_space_samples = torch.randn(100, 2)\n",
    "generated_samples = generator(latent_space_samples)"
   ]
  },
  {
   "cell_type": "markdown",
   "id": "bf635dbb",
   "metadata": {},
   "source": [
    "##### Then you can plot the generated samples and check if they resemble the training data. Before plotting the generated_samples data, you’ll need to use .detach() to return a tensor from the PyTorch computational graph, which you’ll then use to calculate the gradients"
   ]
  },
  {
   "cell_type": "code",
   "execution_count": 41,
   "id": "96611d81",
   "metadata": {},
   "outputs": [
    {
     "data": {
      "text/plain": [
       "[<matplotlib.lines.Line2D at 0x2029f07c350>]"
      ]
     },
     "execution_count": 41,
     "metadata": {},
     "output_type": "execute_result"
    },
    {
     "data": {
      "image/png": "[encoded data removed]",
      "text/plain": [
       "<Figure size 640x480 with 1 Axes>"
      ]
     },
     "metadata": {},
     "output_type": "display_data"
    }
   ],
   "source": [
    "generated_samples = generated_samples.detach()\n",
    "plt.plot(generated_samples[:, 0], generated_samples[:, 1], \".\")"
   ]
  }
 ],
 "metadata": {
  "kernelspec": {
   "display_name": "Python 3 (ipykernel)",
   "language": "python",
   "name": "python3"
  },
  "language_info": {
   "codemirror_mode": {
    "name": "ipython",
    "version": 3
   },
   "file_extension": ".py",
   "mimetype": "text/x-python",
   "name": "python",
   "nbconvert_exporter": "python",
   "pygments_lexer": "ipython3",
   "version": "3.11.4"
  }
 },
 "nbformat": 4,
 "nbformat_minor": 5
}
