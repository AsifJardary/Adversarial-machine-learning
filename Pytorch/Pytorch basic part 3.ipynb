{
 "cells": [
  {
   "cell_type": "markdown",
   "id": "ba7df600",
   "metadata": {},
   "source": [
    "### Tensor Math"
   ]
  },
  {
   "cell_type": "code",
   "execution_count": 2,
   "id": "974ee3ac",
   "metadata": {},
   "outputs": [],
   "source": [
    "import torch "
   ]
  },
  {
   "cell_type": "code",
   "execution_count": 3,
   "id": "500661a2",
   "metadata": {},
   "outputs": [],
   "source": [
    "x = torch.tensor([1,2,3])\n",
    "y = torch.tensor([9,8,7])"
   ]
  },
  {
   "cell_type": "code",
   "execution_count": 4,
   "id": "17194631",
   "metadata": {},
   "outputs": [
    {
     "data": {
      "text/plain": [
       "tensor([10., 10., 10.])"
      ]
     },
     "execution_count": 4,
     "metadata": {},
     "output_type": "execute_result"
    }
   ],
   "source": [
    "#addition\n",
    "# add x and y and store it on z1\n",
    "z1 = torch.empty(3)\n",
    "torch.add(x,y, out=z1)\n",
    "z1"
   ]
  },
  {
   "cell_type": "code",
   "execution_count": 5,
   "id": "ea37050f",
   "metadata": {},
   "outputs": [
    {
     "data": {
      "text/plain": [
       "tensor([10, 10, 10])"
      ]
     },
     "execution_count": 5,
     "metadata": {},
     "output_type": "execute_result"
    }
   ],
   "source": [
    "# another way , addition\n",
    "z2 = torch.add(x,y)\n",
    "z2"
   ]
  },
  {
   "cell_type": "code",
   "execution_count": 6,
   "id": "0306ecae",
   "metadata": {},
   "outputs": [
    {
     "data": {
      "text/plain": [
       "tensor([10, 10, 10])"
      ]
     },
     "execution_count": 6,
     "metadata": {},
     "output_type": "execute_result"
    }
   ],
   "source": [
    "#best way, addition\n",
    "z = x + y\n",
    "z"
   ]
  },
  {
   "cell_type": "code",
   "execution_count": 8,
   "id": "9f61e4a4",
   "metadata": {},
   "outputs": [
    {
     "data": {
      "text/plain": [
       "tensor([-8, -6, -4])"
      ]
     },
     "execution_count": 8,
     "metadata": {},
     "output_type": "execute_result"
    }
   ],
   "source": [
    "# Subtraction\n",
    "z = x - y\n",
    "z"
   ]
  },
  {
   "cell_type": "code",
   "execution_count": 9,
   "id": "5978a0d1",
   "metadata": {},
   "outputs": [
    {
     "data": {
      "text/plain": [
       "tensor([0.1111, 0.2500, 0.4286])"
      ]
     },
     "execution_count": 9,
     "metadata": {},
     "output_type": "execute_result"
    }
   ],
   "source": [
    "# Division\n",
    "z = torch.true_divide(x,y)\n",
    "z"
   ]
  },
  {
   "cell_type": "code",
   "execution_count": 19,
   "id": "7271868c",
   "metadata": {},
   "outputs": [
    {
     "data": {
      "text/plain": [
       "tensor([0., 0., 0.])"
      ]
     },
     "execution_count": 19,
     "metadata": {},
     "output_type": "execute_result"
    }
   ],
   "source": [
    "# Inplace operation\n",
    "# inplace means it will not create any copy!\n",
    "t = torch.zeros(3)\n",
    "t"
   ]
  },
  {
   "cell_type": "code",
   "execution_count": 21,
   "id": "5a436cd7",
   "metadata": {
    "scrolled": true
   },
   "outputs": [
    {
     "data": {
      "text/plain": [
       "tensor([2., 4., 6.])"
      ]
     },
     "execution_count": 21,
     "metadata": {},
     "output_type": "execute_result"
    }
   ],
   "source": [
    "t.add_(x)"
   ]
  },
  {
   "cell_type": "code",
   "execution_count": 23,
   "id": "3c5f7fae",
   "metadata": {},
   "outputs": [
    {
     "data": {
      "text/plain": [
       "tensor([ 4.,  8., 12.])"
      ]
     },
     "execution_count": 23,
     "metadata": {},
     "output_type": "execute_result"
    }
   ],
   "source": [
    "#another way inplace\n",
    "t +=x\n",
    "t"
   ]
  },
  {
   "cell_type": "code",
   "execution_count": 25,
   "id": "9be5ea92",
   "metadata": {},
   "outputs": [
    {
     "data": {
      "text/plain": [
       "tensor([1, 4, 9])"
      ]
     },
     "execution_count": 25,
     "metadata": {},
     "output_type": "execute_result"
    }
   ],
   "source": [
    "# Exponentiation\n",
    "z"
   ]
  },
  {
   "cell_type": "code",
   "execution_count": 26,
   "id": "0591f81c",
   "metadata": {},
   "outputs": [
    {
     "data": {
      "text/plain": [
       "tensor([1, 2, 3])"
      ]
     },
     "execution_count": 26,
     "metadata": {},
     "output_type": "execute_result"
    }
   ],
   "source": [
    "x"
   ]
  },
  {
   "cell_type": "code",
   "execution_count": 28,
   "id": "b495814c",
   "metadata": {},
   "outputs": [
    {
     "data": {
      "text/plain": [
       "tensor([1, 4, 9])"
      ]
     },
     "execution_count": 28,
     "metadata": {},
     "output_type": "execute_result"
    }
   ],
   "source": [
    "po = x.pow(2)\n",
    "po"
   ]
  },
  {
   "cell_type": "code",
   "execution_count": 30,
   "id": "d4584b6c",
   "metadata": {},
   "outputs": [
    {
     "data": {
      "text/plain": [
       "tensor([ 1, 16, 81])"
      ]
     },
     "execution_count": 30,
     "metadata": {},
     "output_type": "execute_result"
    }
   ],
   "source": [
    "zo = z.pow(2)\n",
    "zo"
   ]
  },
  {
   "cell_type": "code",
   "execution_count": 31,
   "id": "3fc71031",
   "metadata": {},
   "outputs": [
    {
     "data": {
      "text/plain": [
       "tensor([True, True, True])"
      ]
     },
     "execution_count": 31,
     "metadata": {},
     "output_type": "execute_result"
    }
   ],
   "source": [
    "# simple compare\n",
    "z = x > 0\n",
    "z"
   ]
  },
  {
   "cell_type": "code",
   "execution_count": 32,
   "id": "b231d9b0",
   "metadata": {},
   "outputs": [
    {
     "data": {
      "text/plain": [
       "tensor([False, False, False])"
      ]
     },
     "execution_count": 32,
     "metadata": {},
     "output_type": "execute_result"
    }
   ],
   "source": [
    "z = x < 0\n",
    "z"
   ]
  },
  {
   "cell_type": "code",
   "execution_count": 36,
   "id": "d90a56a0",
   "metadata": {},
   "outputs": [
    {
     "data": {
      "text/plain": [
       "tensor([[0.1403, 0.1045, 0.5384, 0.9508, 0.2746],\n",
       "        [0.9497, 0.1213, 0.0733, 0.5248, 0.1712]])"
      ]
     },
     "execution_count": 36,
     "metadata": {},
     "output_type": "execute_result"
    }
   ],
   "source": [
    "#matrix multiplication\n",
    "x1 = torch.rand((2,5))\n",
    "x1"
   ]
  },
  {
   "cell_type": "code",
   "execution_count": 37,
   "id": "5dfce53f",
   "metadata": {},
   "outputs": [
    {
     "data": {
      "text/plain": [
       "tensor([[0.9207, 0.0343, 0.7373],\n",
       "        [0.3386, 0.4263, 0.5059],\n",
       "        [0.4350, 0.9273, 0.1317],\n",
       "        [0.8317, 0.8385, 0.3302],\n",
       "        [0.9643, 0.7950, 0.0588]])"
      ]
     },
     "execution_count": 37,
     "metadata": {},
     "output_type": "execute_result"
    }
   ],
   "source": [
    "x2 = torch.rand((5,3))\n",
    "x2"
   ]
  },
  {
   "cell_type": "code",
   "execution_count": 38,
   "id": "605c9f98",
   "metadata": {},
   "outputs": [
    {
     "data": {
      "text/plain": [
       "tensor([[1.4544, 1.5641, 0.5573],\n",
       "        [1.5489, 0.7283, 0.9545]])"
      ]
     },
     "execution_count": 38,
     "metadata": {},
     "output_type": "execute_result"
    }
   ],
   "source": [
    "#Performs a matrix multiplication of the matrices input and mat2\n",
    "x3 = torch.mm(x1,x2)\n",
    "x3"
   ]
  },
  {
   "cell_type": "code",
   "execution_count": 40,
   "id": "69cac48e",
   "metadata": {},
   "outputs": [
    {
     "data": {
      "text/plain": [
       "tensor([[1.4544, 1.5641, 0.5573],\n",
       "        [1.5489, 0.7283, 0.9545]])"
      ]
     },
     "execution_count": 40,
     "metadata": {},
     "output_type": "execute_result"
    }
   ],
   "source": [
    "x3 = x1.mm(x2)\n",
    "x3"
   ]
  },
  {
   "cell_type": "code",
   "execution_count": 34,
   "id": "969e1113",
   "metadata": {},
   "outputs": [
    {
     "data": {
      "text/plain": [
       "tensor([[0.6601, 0.1925, 0.5790, 0.7395, 0.7454],\n",
       "        [0.0158, 0.0962, 0.0112, 0.7427, 0.2007],\n",
       "        [0.5289, 0.8813, 0.6594, 0.3458, 0.7282],\n",
       "        [0.2776, 0.0601, 0.0075, 0.0678, 0.2438],\n",
       "        [0.6639, 0.1465, 0.5888, 0.5967, 0.9024]])"
      ]
     },
     "execution_count": 34,
     "metadata": {},
     "output_type": "execute_result"
    }
   ],
   "source": [
    "# Matrix exponentiation\n",
    "# make 5 x 5 random float matrix\n",
    "matrix_exp = torch.rand(5,5)\n",
    "matrix_exp"
   ]
  },
  {
   "cell_type": "code",
   "execution_count": 35,
   "id": "0b62bbc5",
   "metadata": {},
   "outputs": [
    {
     "name": "stdout",
     "output_type": "stream",
     "text": [
      "tensor([[3.1738, 1.7672, 2.7169, 3.2557, 4.0738],\n",
      "        [0.6500, 0.2768, 0.5394, 0.6415, 0.8135],\n",
      "        [3.1627, 1.7433, 2.6056, 3.2156, 4.0431],\n",
      "        [0.8272, 0.4465, 0.6939, 0.7609, 1.0364],\n",
      "        [3.3609, 1.8896, 2.8879, 3.4253, 4.3142]])\n"
     ]
    }
   ],
   "source": [
    "print(matrix_exp.matrix_power(3))"
   ]
  },
  {
   "cell_type": "code",
   "execution_count": 43,
   "id": "010beba5",
   "metadata": {},
   "outputs": [
    {
     "name": "stdout",
     "output_type": "stream",
     "text": [
      "tensor([ 9, 16, 21])\n",
      "tensor([1, 2, 3])\n",
      "tensor([9, 8, 7])\n"
     ]
    }
   ],
   "source": [
    "# Element wise mult\n",
    "z = x * y\n",
    "print(z)\n",
    "print(x)\n",
    "print(y)"
   ]
  },
  {
   "cell_type": "code",
   "execution_count": 44,
   "id": "49767279",
   "metadata": {},
   "outputs": [
    {
     "name": "stdout",
     "output_type": "stream",
     "text": [
      "tensor(46)\n"
     ]
    }
   ],
   "source": [
    "# Dot product\n",
    "z = torch.dot(x,y)\n",
    "print(z)"
   ]
  },
  {
   "cell_type": "code",
   "execution_count": 45,
   "id": "7a832546",
   "metadata": {},
   "outputs": [
    {
     "data": {
      "text/plain": [
       "tensor([[[0.4597, 0.6889, 0.4073,  ..., 0.6403, 0.1476, 0.1289],\n",
       "         [0.9295, 0.7741, 0.7017,  ..., 0.4799, 0.3264, 0.0430],\n",
       "         [0.8660, 0.3209, 0.5083,  ..., 0.4510, 0.0412, 0.8592],\n",
       "         ...,\n",
       "         [0.2455, 0.6475, 0.8345,  ..., 0.3056, 0.5486, 0.8102],\n",
       "         [0.4285, 0.1107, 0.6134,  ..., 0.9856, 0.1010, 0.9020],\n",
       "         [0.1177, 0.4934, 0.2163,  ..., 0.8965, 0.2325, 0.0451]],\n",
       "\n",
       "        [[0.8655, 0.6312, 0.6385,  ..., 0.4922, 0.3903, 0.1546],\n",
       "         [0.0573, 0.1215, 0.4475,  ..., 0.7570, 0.4967, 0.1092],\n",
       "         [0.8074, 0.4648, 0.2503,  ..., 0.6143, 0.0344, 0.4445],\n",
       "         ...,\n",
       "         [0.8867, 0.1519, 0.8007,  ..., 0.0743, 0.8028, 0.8593],\n",
       "         [0.1464, 0.6478, 0.1071,  ..., 0.7094, 0.2596, 0.6864],\n",
       "         [0.4326, 0.8296, 0.5172,  ..., 0.5523, 0.4868, 0.8482]],\n",
       "\n",
       "        [[0.1815, 0.1864, 0.5119,  ..., 0.1664, 0.7593, 0.2546],\n",
       "         [0.4924, 0.2325, 0.8021,  ..., 0.9981, 0.9235, 0.6625],\n",
       "         [0.0646, 0.4593, 0.0670,  ..., 0.7486, 0.6447, 0.2875],\n",
       "         ...,\n",
       "         [0.5883, 0.5855, 0.4319,  ..., 0.0064, 0.9153, 0.9930],\n",
       "         [0.2701, 0.5922, 0.2921,  ..., 0.9225, 0.8871, 0.8058],\n",
       "         [0.3776, 0.7061, 0.4482,  ..., 0.1974, 0.0424, 0.9733]],\n",
       "\n",
       "        ...,\n",
       "\n",
       "        [[0.6507, 0.0428, 0.5678,  ..., 0.4038, 0.0118, 0.5590],\n",
       "         [0.7161, 0.0978, 0.7570,  ..., 0.1569, 0.5102, 0.7256],\n",
       "         [0.7465, 0.4328, 0.6346,  ..., 0.8095, 0.5569, 0.3107],\n",
       "         ...,\n",
       "         [0.3167, 0.4893, 0.4135,  ..., 0.0502, 0.1310, 0.3022],\n",
       "         [0.5198, 0.8990, 0.0857,  ..., 0.1910, 0.9504, 0.2206],\n",
       "         [0.8113, 0.0460, 0.1765,  ..., 0.9326, 0.9697, 0.5773]],\n",
       "\n",
       "        [[0.0450, 0.4504, 0.3925,  ..., 0.8885, 0.1083, 0.1858],\n",
       "         [0.3970, 0.0999, 0.6549,  ..., 0.1390, 0.7195, 0.8966],\n",
       "         [0.5996, 0.6857, 0.1802,  ..., 0.1754, 0.6912, 0.4108],\n",
       "         ...,\n",
       "         [0.4221, 0.5593, 0.4978,  ..., 0.6823, 0.3858, 0.9792],\n",
       "         [0.0192, 0.4723, 0.5194,  ..., 0.8298, 0.5191, 0.7158],\n",
       "         [0.8027, 0.4905, 0.3212,  ..., 0.6222, 0.7960, 0.3875]],\n",
       "\n",
       "        [[0.1942, 0.5431, 0.8394,  ..., 0.5540, 0.7811, 0.4557],\n",
       "         [0.3287, 0.2163, 0.7846,  ..., 0.5075, 0.8390, 0.8831],\n",
       "         [0.2465, 0.7816, 0.3026,  ..., 0.7028, 0.7814, 0.5495],\n",
       "         ...,\n",
       "         [0.8599, 0.2555, 0.8860,  ..., 0.0676, 0.6807, 0.7478],\n",
       "         [0.2676, 0.1990, 0.0581,  ..., 0.6475, 0.4931, 0.7881],\n",
       "         [0.8567, 0.0246, 0.3169,  ..., 0.7603, 0.0638, 0.2831]]])"
      ]
     },
     "execution_count": 45,
     "metadata": {},
     "output_type": "execute_result"
    }
   ],
   "source": [
    "# Batch matrix Multiplication\n",
    "batch = 32\n",
    "n = 10\n",
    "m = 20\n",
    "p = 30\n",
    "\n",
    "tensor1 = torch.rand((batch, n, m))\n",
    "tensor1"
   ]
  },
  {
   "cell_type": "code",
   "execution_count": 46,
   "id": "02c32a0c",
   "metadata": {},
   "outputs": [
    {
     "data": {
      "text/plain": [
       "tensor([[[0.8689, 0.1102, 0.1797,  ..., 0.3852, 0.5542, 0.7662],\n",
       "         [0.3922, 0.8138, 0.2887,  ..., 0.8374, 0.3890, 0.3193],\n",
       "         [0.0240, 0.5369, 0.9912,  ..., 0.9583, 0.5920, 0.1645],\n",
       "         ...,\n",
       "         [0.2284, 0.1150, 0.7116,  ..., 0.1233, 0.1121, 0.0567],\n",
       "         [0.6494, 0.2359, 0.6633,  ..., 0.5776, 0.2509, 0.2999],\n",
       "         [0.7888, 0.8365, 0.0819,  ..., 0.4233, 0.2128, 0.1725]],\n",
       "\n",
       "        [[0.8881, 0.9576, 0.1707,  ..., 0.1894, 0.0840, 0.6206],\n",
       "         [0.9804, 0.2596, 0.9771,  ..., 0.4526, 0.4760, 0.9248],\n",
       "         [0.5487, 0.3863, 0.3875,  ..., 0.9927, 0.6377, 0.7272],\n",
       "         ...,\n",
       "         [0.5586, 0.3661, 0.8753,  ..., 0.2669, 0.1118, 0.9478],\n",
       "         [0.1791, 0.0620, 0.6704,  ..., 0.6760, 0.8219, 0.6423],\n",
       "         [0.4911, 0.1432, 0.2136,  ..., 0.8053, 0.9533, 0.8965]],\n",
       "\n",
       "        [[0.0211, 0.0050, 0.2912,  ..., 0.3580, 0.2750, 0.8125],\n",
       "         [0.8252, 0.7794, 0.6005,  ..., 0.5110, 0.8955, 0.5166],\n",
       "         [0.6415, 0.1279, 0.1399,  ..., 0.7398, 0.2558, 0.6892],\n",
       "         ...,\n",
       "         [0.1910, 0.8986, 0.1145,  ..., 0.4955, 0.2160, 0.6026],\n",
       "         [0.8651, 0.9153, 0.3233,  ..., 0.2491, 0.0369, 0.1180],\n",
       "         [0.8899, 0.1387, 0.9022,  ..., 0.4483, 0.0645, 0.2963]],\n",
       "\n",
       "        ...,\n",
       "\n",
       "        [[0.2023, 0.3503, 0.1696,  ..., 0.5786, 0.2600, 0.1530],\n",
       "         [0.4129, 0.0528, 0.7053,  ..., 0.2114, 0.1435, 0.5120],\n",
       "         [0.5101, 0.0873, 0.8553,  ..., 0.0975, 0.7862, 0.2969],\n",
       "         ...,\n",
       "         [0.8015, 0.0286, 0.6471,  ..., 0.2363, 0.3740, 0.0641],\n",
       "         [0.5478, 0.2975, 0.3679,  ..., 0.9954, 0.6737, 0.7209],\n",
       "         [0.9498, 0.4433, 0.0064,  ..., 0.3546, 0.1591, 0.7875]],\n",
       "\n",
       "        [[0.6503, 0.3267, 0.5017,  ..., 0.2123, 0.6363, 0.9970],\n",
       "         [0.7164, 0.9668, 0.8760,  ..., 0.7341, 0.0157, 0.8914],\n",
       "         [0.4450, 0.5734, 0.4533,  ..., 0.2161, 0.0333, 0.0578],\n",
       "         ...,\n",
       "         [0.7181, 0.6185, 0.8964,  ..., 0.6086, 0.6776, 0.1476],\n",
       "         [0.0842, 0.0593, 0.0411,  ..., 0.3669, 0.3847, 0.1103],\n",
       "         [0.6584, 0.6000, 0.1897,  ..., 0.9460, 0.7575, 0.4116]],\n",
       "\n",
       "        [[0.0440, 0.6656, 0.4292,  ..., 0.6655, 0.7269, 0.5390],\n",
       "         [0.1312, 0.3702, 0.6169,  ..., 0.6873, 0.8232, 0.0389],\n",
       "         [0.7274, 0.9785, 0.3434,  ..., 0.8674, 0.3507, 0.7529],\n",
       "         ...,\n",
       "         [0.2979, 0.0396, 0.9559,  ..., 0.3106, 0.3501, 0.3974],\n",
       "         [0.1315, 0.9936, 0.4727,  ..., 0.5463, 0.0950, 0.9316],\n",
       "         [0.7072, 0.1993, 0.0012,  ..., 0.5986, 0.2796, 0.3266]]])"
      ]
     },
     "execution_count": 46,
     "metadata": {},
     "output_type": "execute_result"
    }
   ],
   "source": [
    "tensor2 = torch.rand((batch, m, p))\n",
    "tensor2"
   ]
  },
  {
   "cell_type": "code",
   "execution_count": 48,
   "id": "26d58731",
   "metadata": {
    "scrolled": true
   },
   "outputs": [
    {
     "data": {
      "text/plain": [
       "tensor([[[5.5338, 4.6033, 5.4288,  ..., 4.4271, 5.6786, 4.5356],\n",
       "         [5.2713, 4.7512, 4.9943,  ..., 4.7425, 6.1504, 3.8108],\n",
       "         [5.0973, 4.5325, 4.3851,  ..., 4.1837, 5.2239, 3.9418],\n",
       "         ...,\n",
       "         [4.9554, 5.0567, 5.2347,  ..., 5.0456, 5.1668, 4.1722],\n",
       "         [4.6990, 4.6940, 5.1702,  ..., 3.9500, 5.0574, 4.2102],\n",
       "         [3.4546, 3.5182, 3.4877,  ..., 3.0746, 3.5139, 2.6796]],\n",
       "\n",
       "        [[6.7769, 5.7204, 6.3230,  ..., 6.2919, 6.4010, 6.9872],\n",
       "         [4.3289, 3.1418, 3.8013,  ..., 4.0699, 3.9687, 4.5886],\n",
       "         [5.9473, 4.1763, 3.9355,  ..., 3.7820, 4.2390, 5.4616],\n",
       "         ...,\n",
       "         [5.4114, 4.1433, 4.9975,  ..., 5.4912, 5.1413, 5.7657],\n",
       "         [5.3281, 3.7677, 4.0897,  ..., 4.9550, 4.6350, 5.4215],\n",
       "         [4.4577, 2.5944, 4.4219,  ..., 4.0299, 2.8928, 4.2071]],\n",
       "\n",
       "        [[3.7492, 5.0061, 2.1559,  ..., 3.7808, 3.7182, 2.7924],\n",
       "         [5.1933, 5.4178, 3.3475,  ..., 4.4882, 3.6250, 4.0575],\n",
       "         [4.4464, 5.6154, 2.5086,  ..., 4.1635, 3.6704, 4.1735],\n",
       "         ...,\n",
       "         [5.0836, 4.8361, 3.4265,  ..., 4.5489, 4.3259, 3.6162],\n",
       "         [4.9693, 5.2469, 3.3418,  ..., 4.4078, 3.9257, 3.9608],\n",
       "         [4.7370, 4.8209, 3.9915,  ..., 4.7119, 4.8194, 4.6777]],\n",
       "\n",
       "        ...,\n",
       "\n",
       "        [[3.8269, 2.7937, 2.4736,  ..., 3.5990, 2.0275, 3.3899],\n",
       "         [5.0585, 4.5450, 3.8070,  ..., 3.9467, 3.4770, 5.0510],\n",
       "         [6.9447, 4.7019, 5.7704,  ..., 5.8368, 4.2725, 5.6502],\n",
       "         ...,\n",
       "         [5.3260, 4.7289, 4.1652,  ..., 3.9253, 3.0144, 4.2644],\n",
       "         [6.7305, 5.1920, 6.3283,  ..., 6.4449, 4.5994, 6.2545],\n",
       "         [5.7788, 3.8338, 4.7697,  ..., 5.7406, 3.5848, 4.8679]],\n",
       "\n",
       "        [[4.9637, 3.3054, 4.3359,  ..., 3.4811, 3.4320, 3.4519],\n",
       "         [4.5732, 3.2130, 3.6221,  ..., 3.8984, 4.1761, 3.8251],\n",
       "         [5.1152, 3.7802, 4.9000,  ..., 4.9998, 4.8563, 5.4520],\n",
       "         ...,\n",
       "         [6.2955, 4.5951, 4.9399,  ..., 4.6747, 5.3458, 5.1440],\n",
       "         [6.1421, 3.9710, 5.3773,  ..., 5.4340, 4.9797, 4.4387],\n",
       "         [6.0488, 4.1856, 5.5702,  ..., 5.1334, 6.0773, 5.5202]],\n",
       "\n",
       "        [[6.0406, 5.5572, 5.4966,  ..., 5.9290, 4.5539, 4.4830],\n",
       "         [5.4870, 5.1327, 4.3401,  ..., 5.1644, 4.0130, 4.0795],\n",
       "         [6.5152, 5.4380, 6.3657,  ..., 6.7195, 5.5013, 4.8265],\n",
       "         ...,\n",
       "         [5.7865, 5.1156, 4.9577,  ..., 6.0207, 4.5838, 4.1830],\n",
       "         [5.4759, 4.2480, 4.5243,  ..., 4.5005, 4.1128, 3.2373],\n",
       "         [4.3767, 3.3572, 4.2930,  ..., 4.4364, 4.1399, 3.2119]]])"
      ]
     },
     "execution_count": 48,
     "metadata": {},
     "output_type": "execute_result"
    }
   ],
   "source": [
    "out_bmm = torch.bmm(tensor1, tensor2)\n",
    "out_bmm"
   ]
  },
  {
   "cell_type": "markdown",
   "id": "e3197e2f",
   "metadata": {},
   "source": [
    "# Need to know more about this BMM (batch matrix multiplication)"
   ]
  }
 ],
 "metadata": {
  "kernelspec": {
   "display_name": "Python 3 (ipykernel)",
   "language": "python",
   "name": "python3"
  },
  "language_info": {
   "codemirror_mode": {
    "name": "ipython",
    "version": 3
   },
   "file_extension": ".py",
   "mimetype": "text/x-python",
   "name": "python",
   "nbconvert_exporter": "python",
   "pygments_lexer": "ipython3",
   "version": "3.11.4"
  }
 },
 "nbformat": 4,
 "nbformat_minor": 5
}
